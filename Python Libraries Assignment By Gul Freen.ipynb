{
 "cells": [
  {
   "cell_type": "code",
   "execution_count": 2,
   "id": "d9f41474",
   "metadata": {},
   "outputs": [],
   "source": [
    "import numpy as np"
   ]
  },
  {
   "cell_type": "markdown",
   "id": "0791b396",
   "metadata": {},
   "source": [
    "# Array creation"
   ]
  },
  {
   "cell_type": "markdown",
   "id": "ba5bdf24",
   "metadata": {},
   "source": [
    "\n",
    "1. Create a numpy array of size 10, filled with zeros\n"
   ]
  },
  {
   "cell_type": "code",
   "execution_count": 4,
   "id": "6fe10a5d",
   "metadata": {},
   "outputs": [
    {
     "name": "stdout",
     "output_type": "stream",
     "text": [
      "[0. 0. 0. 0. 0. 0. 0. 0. 0. 0.]\n"
     ]
    }
   ],
   "source": [
    "\n",
    "zeros_array = np.zeros(10)\n",
    "\n",
    "print(zeros_array)\n"
   ]
  },
  {
   "cell_type": "markdown",
   "id": "064f2930",
   "metadata": {},
   "source": [
    "2. Create a numpy array with values ranging from 10 to 49 and set its datatype to float\n"
   ]
  },
  {
   "cell_type": "code",
   "execution_count": 9,
   "id": "83206985",
   "metadata": {},
   "outputs": [
    {
     "name": "stdout",
     "output_type": "stream",
     "text": [
      "[10. 11. 12. 13. 14. 15. 16. 17. 18. 19. 20. 21. 22. 23. 24. 25. 26. 27.\n",
      " 28. 29. 30. 31. 32. 33. 34. 35. 36. 37. 38. 39. 40. 41. 42. 43. 44. 45.\n",
      " 46. 47. 48. 49.]\n"
     ]
    }
   ],
   "source": [
    "float_array = np.arange(10, 50, dtype=float)\n",
    "\n",
    "print(float_array)"
   ]
  },
  {
   "cell_type": "markdown",
   "id": "9c323aa8",
   "metadata": {},
   "source": [
    "3. Create a numpy matrix of 2*2 integers, filled with ones.\n",
    "\n"
   ]
  },
  {
   "cell_type": "code",
   "execution_count": 10,
   "id": "f46f5cfb",
   "metadata": {},
   "outputs": [
    {
     "name": "stdout",
     "output_type": "stream",
     "text": [
      "[[1 1]\n",
      " [1 1]]\n"
     ]
    }
   ],
   "source": [
    "ones_matrix = np.ones((2, 2), dtype=int)\n",
    "\n",
    "print(ones_matrix)"
   ]
  },
  {
   "cell_type": "markdown",
   "id": "5187e4b7",
   "metadata": {},
   "source": [
    "4. Create a numpy matrix of 3*2 float numbers, filled with ones."
   ]
  },
  {
   "cell_type": "code",
   "execution_count": 11,
   "id": "da2844b4",
   "metadata": {},
   "outputs": [
    {
     "name": "stdout",
     "output_type": "stream",
     "text": [
      "[[1. 1.]\n",
      " [1. 1.]\n",
      " [1. 1.]]\n"
     ]
    }
   ],
   "source": [
    "ones_float_matrix = np.ones((3, 2), dtype=float)\n",
    "\n",
    "print(ones_float_matrix)"
   ]
  },
  {
   "cell_type": "markdown",
   "id": "3da37a44",
   "metadata": {},
   "source": [
    "5. Given the X numpy array, create a new numpy array with the same shape and type as X,\n",
    "filled with ones. (#hint: search the function np.ones_like( ) )"
   ]
  },
  {
   "cell_type": "code",
   "execution_count": 13,
   "id": "36d50555",
   "metadata": {},
   "outputs": [
    {
     "name": "stdout",
     "output_type": "stream",
     "text": [
      "[[1 1 1]\n",
      " [1 1 1]]\n"
     ]
    }
   ],
   "source": [
    "X = np.array([[1, 2, 3], [4, 5, 6]])\n",
    "\n",
    "ones_like_X = np.ones_like(X)\n",
    "\n",
    "print(ones_like_X)"
   ]
  },
  {
   "cell_type": "markdown",
   "id": "f32d2114",
   "metadata": {},
   "source": [
    "6. Given the X numpy matrix, create a new numpy matrix with the same shape and type as\n",
    "X, filled with zeros. (hint: similar function as above exists for zeros as well)"
   ]
  },
  {
   "cell_type": "code",
   "execution_count": 1,
   "id": "aab53c77",
   "metadata": {},
   "outputs": [
    {
     "name": "stdout",
     "output_type": "stream",
     "text": [
      "[[0 0 0]\n",
      " [0 0 0]]\n"
     ]
    }
   ],
   "source": [
    "\n",
    "X = np.array([[1, 2, 3], [4, 5, 6]])  # Example input numpy matrix\n",
    "\n",
    "new_matrix = np.zeros_like(X)  # Create a new numpy matrix with the same shape and type as X, filled with zeros\n",
    "\n",
    "print(new_matrix)"
   ]
  },
  {
   "cell_type": "markdown",
   "id": "cc116891",
   "metadata": {},
   "source": [
    "7. Create a numpy matrix of 4*4 integers, filled with fives."
   ]
  },
  {
   "cell_type": "code",
   "execution_count": 2,
   "id": "dac043d5",
   "metadata": {},
   "outputs": [
    {
     "name": "stdout",
     "output_type": "stream",
     "text": [
      "[[5 5 5 5]\n",
      " [5 5 5 5]\n",
      " [5 5 5 5]\n",
      " [5 5 5 5]]\n"
     ]
    }
   ],
   "source": [
    "\n",
    "matrix = np.ones((4, 4), dtype=int) * 5\n",
    "\n",
    "print(matrix)"
   ]
  },
  {
   "cell_type": "markdown",
   "id": "2cf71997",
   "metadata": {},
   "source": [
    "8. Given the X numpy matrix, create a new numpy matrix with the same shape and type as\n",
    "X, filled with sevens."
   ]
  },
  {
   "cell_type": "code",
   "execution_count": 4,
   "id": "dfa0c390",
   "metadata": {},
   "outputs": [
    {
     "name": "stdout",
     "output_type": "stream",
     "text": [
      "[[7 7 7]\n",
      " [7 7 7]\n",
      " [7 7 7]]\n"
     ]
    }
   ],
   "source": [
    "\n",
    "X = np.array([[1, 2, 3],\n",
    "              [4, 5, 6],\n",
    "              [7, 8 , 9]])\n",
    "\n",
    "new_matrix = np.full_like(X, 7)\n",
    "\n",
    "print(new_matrix)"
   ]
  },
  {
   "cell_type": "markdown",
   "id": "3c83810d",
   "metadata": {},
   "source": [
    "9. Create a 3*3 identity numpy matrix with ones on the diagonal and zeros elsewhere."
   ]
  },
  {
   "cell_type": "code",
   "execution_count": 5,
   "id": "2910fb14",
   "metadata": {},
   "outputs": [
    {
     "name": "stdout",
     "output_type": "stream",
     "text": [
      "[[1. 0. 0.]\n",
      " [0. 1. 0.]\n",
      " [0. 0. 1.]]\n"
     ]
    }
   ],
   "source": [
    "\n",
    "identity_matrix = np.eye(3)\n",
    "\n",
    "print(identity_matrix)"
   ]
  },
  {
   "cell_type": "markdown",
   "id": "2a599c57",
   "metadata": {},
   "source": [
    "10. Create a numpy array, filled with 3 random integer values between 1 and 10."
   ]
  },
  {
   "cell_type": "code",
   "execution_count": 9,
   "id": "15edcbd5",
   "metadata": {},
   "outputs": [
    {
     "name": "stdout",
     "output_type": "stream",
     "text": [
      "[2 2 8]\n"
     ]
    }
   ],
   "source": [
    "\n",
    "random_array = np.random.randint(1,10, 3)\n",
    "\n",
    "print(random_array)"
   ]
  },
  {
   "cell_type": "markdown",
   "id": "2987c371",
   "metadata": {},
   "source": [
    "11. Create a 3*3*3 numpy matrix, filled with random float values."
   ]
  },
  {
   "cell_type": "code",
   "execution_count": 10,
   "id": "349e5ad9",
   "metadata": {},
   "outputs": [
    {
     "name": "stdout",
     "output_type": "stream",
     "text": [
      "[[[0.45781587 0.44921476 0.59355152]\n",
      "  [0.02640467 0.05345763 0.523052  ]\n",
      "  [0.84537363 0.1575867  0.54517551]]\n",
      "\n",
      " [[0.73280297 0.99296856 0.8421209 ]\n",
      "  [0.74152819 0.75394044 0.16440536]\n",
      "  [0.17277065 0.35191368 0.05299967]]\n",
      "\n",
      " [[0.55216443 0.53396774 0.65466119]\n",
      "  [0.54881216 0.24879212 0.19671517]\n",
      "  [0.23782049 0.68586918 0.15160369]]]\n"
     ]
    }
   ],
   "source": [
    "\n",
    "random_matrix = np.random.rand(3, 3, 3)\n",
    "\n",
    "print(random_matrix)"
   ]
  },
  {
   "cell_type": "markdown",
   "id": "d566c2ea",
   "metadata": {},
   "source": [
    "12. Create a numpy array with numbers from 1 to 10"
   ]
  },
  {
   "cell_type": "code",
   "execution_count": 11,
   "id": "fd77022b",
   "metadata": {},
   "outputs": [
    {
     "name": "stdout",
     "output_type": "stream",
     "text": [
      "[ 1  2  3  4  5  6  7  8  9 10]\n"
     ]
    }
   ],
   "source": [
    "\n",
    "array = np.arange(1, 11)\n",
    "\n",
    "print(array)"
   ]
  },
  {
   "cell_type": "markdown",
   "id": "92e19039",
   "metadata": {},
   "source": [
    "13. Create a numpy array with the odd numbers between 1 to 10"
   ]
  },
  {
   "cell_type": "code",
   "execution_count": 16,
   "id": "25581004",
   "metadata": {},
   "outputs": [
    {
     "name": "stdout",
     "output_type": "stream",
     "text": [
      "[1 3 5 7 9]\n"
     ]
    }
   ],
   "source": [
    "\n",
    "array = np.arange(1, 11) \n",
    "odd_array = array[array %2 != 0] \n",
    "\n",
    "print(odd_array)"
   ]
  },
  {
   "cell_type": "markdown",
   "id": "71a88885",
   "metadata": {},
   "source": [
    "14. Create a numpy array with numbers from 1 to 10, in descending order."
   ]
  },
  {
   "cell_type": "code",
   "execution_count": 19,
   "id": "7c90cfcc",
   "metadata": {},
   "outputs": [
    {
     "name": "stdout",
     "output_type": "stream",
     "text": [
      "[10  9  8  7  6  5  4  3  2  1]\n"
     ]
    }
   ],
   "source": [
    "\n",
    "descending_array = np.array(list(range(10, 0, -1)))\n",
    "\n",
    "print(descending_array)"
   ]
  },
  {
   "cell_type": "markdown",
   "id": "e30303e4",
   "metadata": {},
   "source": [
    "15. Create a 3*3 numpy matrix, filled with values ranging from 0 to 8"
   ]
  },
  {
   "cell_type": "code",
   "execution_count": 20,
   "id": "94fbb017",
   "metadata": {},
   "outputs": [
    {
     "name": "stdout",
     "output_type": "stream",
     "text": [
      "[[0 1 2]\n",
      " [3 4 5]\n",
      " [6 7 8]]\n"
     ]
    }
   ],
   "source": [
    "matrix = np.arange(9).reshape(3, 3)\n",
    "\n",
    "print(matrix)"
   ]
  },
  {
   "cell_type": "markdown",
   "id": "4a99252d",
   "metadata": {},
   "source": [
    "# Array indexing:"
   ]
  },
  {
   "cell_type": "markdown",
   "id": "58228cef",
   "metadata": {},
   "source": [
    "1. Given the X numpy array, show its first element X = np.array(['A', 'B', 'C', 'D', 'E'])\n"
   ]
  },
  {
   "cell_type": "code",
   "execution_count": 32,
   "id": "ff792bc9",
   "metadata": {},
   "outputs": [
    {
     "name": "stdout",
     "output_type": "stream",
     "text": [
      "A\n"
     ]
    }
   ],
   "source": [
    "X = np.array(['A', 'B', 'C', 'D', 'E'])\n",
    "\n",
    "first_element = X[0]\n",
    "\n",
    "print(first_element)"
   ]
  },
  {
   "cell_type": "markdown",
   "id": "f96e3af8",
   "metadata": {},
   "source": [
    "2. Given the X numpy array, show its last element X = np.array(['A', 'B', 'C', 'D', 'E'])\n"
   ]
  },
  {
   "cell_type": "code",
   "execution_count": 33,
   "id": "e7f68bdd",
   "metadata": {},
   "outputs": [
    {
     "name": "stdout",
     "output_type": "stream",
     "text": [
      "E\n"
     ]
    }
   ],
   "source": [
    "last_element = X[-1]\n",
    "\n",
    "print(last_element)"
   ]
  },
  {
   "cell_type": "markdown",
   "id": "a0e5133e",
   "metadata": {},
   "source": [
    "3. Given the X numpy array, show its first three elements"
   ]
  },
  {
   "cell_type": "code",
   "execution_count": 34,
   "id": "9cc1d5f9",
   "metadata": {},
   "outputs": [
    {
     "name": "stdout",
     "output_type": "stream",
     "text": [
      "['A' 'B' 'C']\n"
     ]
    }
   ],
   "source": [
    "first_three_elements = X[:3]\n",
    "\n",
    "print(first_three_elements)"
   ]
  },
  {
   "cell_type": "markdown",
   "id": "a84e9a1b",
   "metadata": {},
   "source": [
    "4. Given the X numpy array, show all middle elements"
   ]
  },
  {
   "cell_type": "code",
   "execution_count": 35,
   "id": "951f425b",
   "metadata": {},
   "outputs": [
    {
     "name": "stdout",
     "output_type": "stream",
     "text": [
      "['B' 'C' 'D']\n"
     ]
    }
   ],
   "source": [
    "middle_elements = X[1:-1]\n",
    "\n",
    "print(middle_elements)"
   ]
  },
  {
   "cell_type": "markdown",
   "id": "48a4915b",
   "metadata": {},
   "source": [
    "5. Given the X numpy array, show the elements in reverse position."
   ]
  },
  {
   "cell_type": "code",
   "execution_count": 36,
   "id": "c2d97770",
   "metadata": {},
   "outputs": [
    {
     "name": "stdout",
     "output_type": "stream",
     "text": [
      "['E' 'D' 'C' 'B' 'A']\n"
     ]
    }
   ],
   "source": [
    "reverse_elements = X[::-1]\n",
    "\n",
    "print(reverse_elements)"
   ]
  },
  {
   "cell_type": "markdown",
   "id": "f2d7c5d4",
   "metadata": {},
   "source": [
    "6. Given the X numpy array, show the elements in an odd position."
   ]
  },
  {
   "cell_type": "code",
   "execution_count": 37,
   "id": "949ada62",
   "metadata": {},
   "outputs": [
    {
     "name": "stdout",
     "output_type": "stream",
     "text": [
      "['B' 'D']\n"
     ]
    }
   ],
   "source": [
    "odd_elements = X[1::2]\n",
    "print(odd_elements)"
   ]
  },
  {
   "cell_type": "markdown",
   "id": "1db1ef42",
   "metadata": {},
   "source": [
    "7. Given the X numpy matrix, show the first row’s elements.\n",
    "X1 = np.array([[1, 2, 3, 4],[5, 6, 7, 8],[9, 10, 11, 12],[13, 14, 15, 16]])\n"
   ]
  },
  {
   "cell_type": "code",
   "execution_count": 43,
   "id": "a0c1d56a",
   "metadata": {},
   "outputs": [
    {
     "name": "stdout",
     "output_type": "stream",
     "text": [
      "[1 2 3 4]\n"
     ]
    }
   ],
   "source": [
    "X1 = np.array([[1, 2, 3, 4],[5, 6, 7, 8],[9, 10, 11, 12],[13, 14, 15, 16]])\n",
    "first_row_elements = X1[0, :]\n",
    "\n",
    "print(first_row_elements)"
   ]
  },
  {
   "cell_type": "markdown",
   "id": "f8ed1aca",
   "metadata": {},
   "source": [
    "8. Given the X numpy matrix, show the last row elements.\n"
   ]
  },
  {
   "cell_type": "code",
   "execution_count": 44,
   "id": "0e5a9b80",
   "metadata": {},
   "outputs": [
    {
     "name": "stdout",
     "output_type": "stream",
     "text": [
      "[13 14 15 16]\n"
     ]
    }
   ],
   "source": [
    "last_row_elements = X1[-1, :]\n",
    "\n",
    "print(last_row_elements)"
   ]
  },
  {
   "cell_type": "markdown",
   "id": "cb0e188c",
   "metadata": {},
   "source": [
    "9. Given the X numpy matrix, show the first element on first row"
   ]
  },
  {
   "cell_type": "code",
   "execution_count": 45,
   "id": "13c64036",
   "metadata": {},
   "outputs": [
    {
     "name": "stdout",
     "output_type": "stream",
     "text": [
      "1\n"
     ]
    }
   ],
   "source": [
    "first_element_first_row = X1[0, 0]\n",
    "\n",
    "print(first_element_first_row)"
   ]
  },
  {
   "cell_type": "markdown",
   "id": "f43fda87",
   "metadata": {},
   "source": [
    "10. Given the X numpy matrix, show the last element on last row."
   ]
  },
  {
   "cell_type": "code",
   "execution_count": 46,
   "id": "e9839034",
   "metadata": {},
   "outputs": [
    {
     "name": "stdout",
     "output_type": "stream",
     "text": [
      "16\n"
     ]
    }
   ],
   "source": [
    "last_element_last_row = X1[-1, -1]\n",
    "\n",
    "print(last_element_last_row)"
   ]
  },
  {
   "cell_type": "markdown",
   "id": "1ee764c6",
   "metadata": {},
   "source": [
    "11. Given the X numpy matrix, show the first two elements on the first two rows."
   ]
  },
  {
   "cell_type": "code",
   "execution_count": 47,
   "id": "049f020d",
   "metadata": {},
   "outputs": [
    {
     "name": "stdout",
     "output_type": "stream",
     "text": [
      "[[1 2]\n",
      " [5 6]]\n"
     ]
    }
   ],
   "source": [
    "first_two_elements_first_two_rows = X1[:2, :2]\n",
    "\n",
    "print(first_two_elements_first_two_rows)"
   ]
  },
  {
   "cell_type": "markdown",
   "id": "f6205f22",
   "metadata": {},
   "source": [
    "12. Given the X numpy matrix, show the last two elements on the last two rows"
   ]
  },
  {
   "cell_type": "code",
   "execution_count": 48,
   "id": "fe9b5389",
   "metadata": {},
   "outputs": [
    {
     "name": "stdout",
     "output_type": "stream",
     "text": [
      "[[11 12]\n",
      " [15 16]]\n"
     ]
    }
   ],
   "source": [
    "last_two_elements_last_two_rows = X1[-2:, -2:]\n",
    "\n",
    "print(last_two_elements_last_two_rows)"
   ]
  },
  {
   "cell_type": "markdown",
   "id": "df94b179",
   "metadata": {},
   "source": [
    "# Array manipulation"
   ]
  },
  {
   "cell_type": "markdown",
   "id": "dc59af1b",
   "metadata": {},
   "source": [
    "Convert the given integer numpy array to float (you need to google the function that will\n",
    "help you do this) X = [-5, -3, 0, 10, 40]"
   ]
  },
  {
   "cell_type": "code",
   "execution_count": 54,
   "id": "216aeb24",
   "metadata": {},
   "outputs": [
    {
     "name": "stdout",
     "output_type": "stream",
     "text": [
      "[-5. -3.  0. 10. 40.]\n"
     ]
    }
   ],
   "source": [
    "X2 = np.array([-5, -3, 0, 10, 40])\n",
    "X_float = X2.astype(float)\n",
    "\n",
    "print(X_float)"
   ]
  },
  {
   "cell_type": "markdown",
   "id": "ac64340d",
   "metadata": {},
   "source": [
    "Reverse the given numpy array (first element becomes last) through indexing X = [-5, -3, 0, 10, 40]"
   ]
  },
  {
   "cell_type": "code",
   "execution_count": 55,
   "id": "d0a6e802",
   "metadata": {},
   "outputs": [
    {
     "name": "stdout",
     "output_type": "stream",
     "text": [
      "[40 10  0 -3 -5]\n"
     ]
    }
   ],
   "source": [
    "reversed_X = X2[::-1]\n",
    "\n",
    "print(reversed_X)"
   ]
  },
  {
   "cell_type": "markdown",
   "id": "60b9c86d",
   "metadata": {},
   "source": [
    "Given the X numpy array, set the fifth element equal to 1 X = np.zeros(10)"
   ]
  },
  {
   "cell_type": "code",
   "execution_count": 56,
   "id": "4680ba2b",
   "metadata": {},
   "outputs": [
    {
     "name": "stdout",
     "output_type": "stream",
     "text": [
      "[0. 0. 0. 0. 1. 0. 0. 0. 0. 0.]\n"
     ]
    }
   ],
   "source": [
    "X3 = np.zeros(10)\n",
    "\n",
    "X3[4] = 1\n",
    "\n",
    "print(X3)"
   ]
  },
  {
   "cell_type": "markdown",
   "id": "4e263f30",
   "metadata": {},
   "source": [
    "4. Given the X numpy matrix, change the last row with all 1\n",
    "X = np.array([\n",
    "[1, 2, 3, 4],\n",
    "[5, 6, 7, 8],\n",
    "[9, 10, 11, 12],\n",
    "[13, 14, 15, 16]\n",
    "])"
   ]
  },
  {
   "cell_type": "code",
   "execution_count": 57,
   "id": "6c6d7c98",
   "metadata": {},
   "outputs": [
    {
     "name": "stdout",
     "output_type": "stream",
     "text": [
      "[[ 1  2  3  4]\n",
      " [ 5  6  7  8]\n",
      " [ 9 10 11 12]\n",
      " [ 1  1  1  1]]\n"
     ]
    }
   ],
   "source": [
    "X4 = np.array([\n",
    "[1, 2, 3, 4],\n",
    "[5, 6, 7, 8],\n",
    "[9, 10, 11, 12],\n",
    "[13, 14, 15, 16]\n",
    "]) \n",
    "X4[-1, :] = 1\n",
    "\n",
    "print(X4)"
   ]
  },
  {
   "cell_type": "markdown",
   "id": "f81d6413",
   "metadata": {},
   "source": [
    "5. Given the X numpy matrix, add 5 to every element\n",
    "X = np.array([\n",
    "[1, 2, 3, 4],\n",
    "[5, 6, 7, 8],\n",
    "[9, 10, 11, 12],\n",
    "[13, 14, 15, 16]\n",
    "])"
   ]
  },
  {
   "cell_type": "code",
   "execution_count": 60,
   "id": "2844462d",
   "metadata": {},
   "outputs": [
    {
     "name": "stdout",
     "output_type": "stream",
     "text": [
      "[[ 6  7  8  9]\n",
      " [10 11 12 13]\n",
      " [14 15 16 17]\n",
      " [18 19 20 21]]\n"
     ]
    }
   ],
   "source": [
    "X5 = np.array([\n",
    "[1, 2, 3, 4],\n",
    "[5, 6, 7, 8],\n",
    "[9, 10, 11, 12],\n",
    "[13, 14, 15, 16]\n",
    "])\n",
    "X5 += 5\n",
    "\n",
    "print(X5)"
   ]
  },
  {
   "cell_type": "code",
   "execution_count": null,
   "id": "6a79498c",
   "metadata": {},
   "outputs": [],
   "source": []
  }
 ],
 "metadata": {
  "kernelspec": {
   "display_name": "Python 3 (ipykernel)",
   "language": "python",
   "name": "python3"
  },
  "language_info": {
   "codemirror_mode": {
    "name": "ipython",
    "version": 3
   },
   "file_extension": ".py",
   "mimetype": "text/x-python",
   "name": "python",
   "nbconvert_exporter": "python",
   "pygments_lexer": "ipython3",
   "version": "3.11.4"
  }
 },
 "nbformat": 4,
 "nbformat_minor": 5
}
